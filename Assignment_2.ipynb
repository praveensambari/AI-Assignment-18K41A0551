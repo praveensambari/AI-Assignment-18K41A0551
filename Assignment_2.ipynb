{
  "nbformat": 4,
  "nbformat_minor": 0,
  "metadata": {
    "colab": {
      "name": "Assignment 2.ipynb",
      "provenance": [],
      "collapsed_sections": [],
      "authorship_tag": "ABX9TyOYHJJaYPMyspIj1Z+eBNdo",
      "include_colab_link": true
    },
    "kernelspec": {
      "name": "python3",
      "display_name": "Python 3"
    }
  },
  "cells": [
    {
      "cell_type": "markdown",
      "metadata": {
        "id": "view-in-github",
        "colab_type": "text"
      },
      "source": [
        "<a href=\"https://colab.research.google.com/github/praveensambari/AI-Assignments-18K41A0551/blob/master/Assignment_2.ipynb\" target=\"_parent\"><img src=\"https://colab.research.google.com/assets/colab-badge.svg\" alt=\"Open In Colab\"/></a>"
      ]
    },
    {
      "cell_type": "markdown",
      "metadata": {
        "id": "Oed-cCzNQrc9",
        "colab_type": "text"
      },
      "source": [
        "# **1.Question**\n",
        "Area of Triangle :\n",
        "Given the lengths of three sides of a triangle, calculate the area of the triangle. \n",
        "\n"
      ]
    },
    {
      "cell_type": "code",
      "metadata": {
        "id": "VUj85WzEiUgB",
        "colab_type": "code",
        "colab": {
          "base_uri": "https://localhost:8080/",
          "height": 84
        },
        "outputId": "e0c2e4b1-f8b2-434e-9062-3809a43e9aee"
      },
      "source": [
        "a=int(input(\"Enter side A : \"))\n",
        "b=int(input(\"Enter side B : \"))\n",
        "c=int(input(\"Enter side C : \"))\n",
        "p=(a+b+c)/2\n",
        "area=(p*(p-a)*(p-b)*(p-c))** 0.5 \n",
        "print(\"Area of Triangle : \",area)"
      ],
      "execution_count": null,
      "outputs": [
        {
          "output_type": "stream",
          "text": [
            "Enter side A : 2\n",
            "Enter side B : 3\n",
            "Enter side C : 4\n",
            "Area of Triangle :  2.9047375096555625\n"
          ],
          "name": "stdout"
        }
      ]
    },
    {
      "cell_type": "markdown",
      "metadata": {
        "id": "40YI3Z-IUgu5",
        "colab_type": "text"
      },
      "source": [
        "# **2.Question**\n",
        "Take a string from end user and check if the value is palindrome or not"
      ]
    },
    {
      "cell_type": "code",
      "metadata": {
        "id": "tWJpz_5yUjRd",
        "colab_type": "code",
        "colab": {
          "base_uri": "https://localhost:8080/",
          "height": 67
        },
        "outputId": "bca6fdfe-d649-4cf8-ea24-49f1db6d5bf0"
      },
      "source": [
        "str=input((\"Enter a string: \"))\n",
        "print(\"string reverse : \",str[::-1])\n",
        "if(str==str[::-1]):\n",
        "      print(\"The string is a palindrome !\")\n",
        "else:\n",
        "      print(\"Not a palindrome !\")"
      ],
      "execution_count": null,
      "outputs": [
        {
          "output_type": "stream",
          "text": [
            "Enter a string: abccba\n",
            "string reverse :  abccba\n",
            "The string is a palindrome\n"
          ],
          "name": "stdout"
        }
      ]
    },
    {
      "cell_type": "markdown",
      "metadata": {
        "id": "gDbeLCLrXAcG",
        "colab_type": "text"
      },
      "source": [
        "# **3.Question**\n",
        "Write a program that reads a year from the user and displays a message \n",
        "Indicating whether or not it is a leap year.\n"
      ]
    },
    {
      "cell_type": "code",
      "metadata": {
        "id": "cQA1GU_FXHh2",
        "colab_type": "code",
        "colab": {
          "base_uri": "https://localhost:8080/",
          "height": 50
        },
        "outputId": "4adbdaef-3f8c-4c15-8842-ad4dcdf21048"
      },
      "source": [
        "year=int(input(\"Enter year to be checked:\"))\n",
        "if(year%4==0 and year%100!=0 or year%400==0):\n",
        "    print(\"The year is a leap year !\")\n",
        "else:\n",
        "    print(\"Not a leap year !\")"
      ],
      "execution_count": null,
      "outputs": [
        {
          "output_type": "stream",
          "text": [
            "Enter year to be checked:2000\n",
            "The year is a leap year !\n"
          ],
          "name": "stdout"
        }
      ]
    },
    {
      "cell_type": "markdown",
      "metadata": {
        "id": "6mPQStnZZ07S",
        "colab_type": "text"
      },
      "source": [
        "# **4.Question**\n",
        "Space To Hyphen problem \n",
        "Take a string as input, and replaces spaces “ “  with hyphens “-”, and returns a string.\n",
        "\n",
        "Input: “ This program converts spaces into hyphen”\n",
        "\n",
        "Output:     “ This-program-converts-spaces-into-hyphen”\n"
      ]
    },
    {
      "cell_type": "code",
      "metadata": {
        "id": "jK5ZnFopaIHz",
        "colab_type": "code",
        "colab": {
          "base_uri": "https://localhost:8080/",
          "height": 50
        },
        "outputId": "b11f5099-b1ad-4db2-f830-84823c5a14c8"
      },
      "source": [
        "str=input(\"Enter a String : \")\n",
        "for i in range(0,len(str),1):\n",
        "  if(str[i]==\" \"):\n",
        "    str=str.replace(str[i],\"-\")\n",
        "print(\"With Hyphens : \",str)"
      ],
      "execution_count": null,
      "outputs": [
        {
          "output_type": "stream",
          "text": [
            "Enter a String : This program converts spaces into hyphen\n",
            "With Hyphens :  This-program-converts-spaces-into-hyphen\n"
          ],
          "name": "stdout"
        }
      ]
    },
    {
      "cell_type": "markdown",
      "metadata": {
        "id": "dEZQTF0sbSqb",
        "colab_type": "text"
      },
      "source": [
        "# **5.Question**\n",
        "Unique Sort problem \n",
        "Take a string as input that accepts a comma separated sequence of words as input and prints the unique words in sorted form (alphanumerically).\n",
        "\n",
        "*Input*: orange, white, red, cyan, green, magenta, cyan, pink, white\n",
        "\n",
        "*Output*: cyan, green, magenta, orange, pink, red, white\n"
      ]
    },
    {
      "cell_type": "code",
      "metadata": {
        "id": "Y2WLpLaCbd6_",
        "colab_type": "code",
        "colab": {
          "base_uri": "https://localhost:8080/",
          "height": 50
        },
        "outputId": "95de505b-208b-4c3b-b897-780df4d74230"
      },
      "source": [
        "words=input(\"Enter a string: \").split(\",\")\n",
        "print(\",\".join(sorted(list(set(words)))))"
      ],
      "execution_count": null,
      "outputs": [
        {
          "output_type": "stream",
          "text": [
            "Enter a string:  orange, white, red, cyan, green, magenta, cyan, pink, white\n",
            " cyan, green, magenta, orange, pink, red, white\n"
          ],
          "name": "stdout"
        }
      ]
    },
    {
      "cell_type": "markdown",
      "metadata": {
        "id": "fAPdY7oiOb6T",
        "colab_type": "text"
      },
      "source": [
        "# **6.Question**\n",
        "**Tax Calculator**\n",
        "\n",
        "Ask the user for their monthly salary. Calculate whether they have to pay tax and if so, how much is that amount .Print the result\n",
        " \n"
      ]
    },
    {
      "cell_type": "code",
      "metadata": {
        "id": "38zTW0c8PnCC",
        "colab_type": "code",
        "colab": {
          "base_uri": "https://localhost:8080/",
          "height": 50
        },
        "outputId": "031dd7ec-8d21-416c-dd13-c8cb33c57f87"
      },
      "source": [
        "salary=int(input(\"Enter Monthly salary : \"))\n",
        "\n",
        "if (salary <=250000):\n",
        "  print(\"Tax should be payed : Nil\")\n",
        "elif (250001<=salary <=500000):\n",
        "  tax=((salary-250001)*(5/100))\n",
        "  print(\"Tax should be payed \",tax)\n",
        "elif (500001<=salary <=750000): \n",
        "  tax=((salary-500001)*(10/100))\n",
        "  print(\"Tax should be payed \",tax)\n",
        "elif (750001<=salary <=1000000):\n",
        "  tax=((salary-750001)*(15/100))\n",
        "  print(\"Tax should be payed \",tax)\n",
        "elif (1000001<=salary <=1250000):\n",
        "  tax=((salary-1000001)*(20/100))\n",
        "  print(\"Tax should be payed \",tax)\n",
        "elif (1250001<=salary <=1500000):  \n",
        "  tax=((salary-1250001)*(25/100))\n",
        "  print(\"Tax should be payed \",tax)\n",
        "else:\n",
        "  tax=((salary-1500000)*(30/100))\n",
        "  print(\"Tax should be payed \",tax)"
      ],
      "execution_count": null,
      "outputs": [
        {
          "output_type": "stream",
          "text": [
            "Enter Monthly salary : 650000\n",
            "Tax should be payed  14999.900000000001\n"
          ],
          "name": "stdout"
        }
      ]
    },
    {
      "cell_type": "markdown",
      "metadata": {
        "id": "62VE_gdJZY6m",
        "colab_type": "text"
      },
      "source": [
        "# **7.Question**\n",
        "Take a list of integers as an argument, and converts it into a single integer (return the integer).\n",
        "\n",
        "*Input*: [11, 33, 50]\n",
        "\n",
        "*Output*: 113350\n"
      ]
    },
    {
      "cell_type": "code",
      "metadata": {
        "id": "_FgxqUy7ZwDS",
        "colab_type": "code",
        "colab": {
          "base_uri": "https://localhost:8080/",
          "height": 34
        },
        "outputId": "477e25e0-c39b-4f59-d6ed-c3e727453198"
      },
      "source": [
        "List=[11,33,50]\n",
        "singleInt=''\n",
        "for i in range(len(List)):\n",
        "  singleInt=singleInt+str(List[i])\n",
        "print(singleInt)"
      ],
      "execution_count": null,
      "outputs": [
        {
          "output_type": "stream",
          "text": [
            "113350\n"
          ],
          "name": "stdout"
        }
      ]
    },
    {
      "cell_type": "markdown",
      "metadata": {
        "id": "F4yk9XQlcCNm",
        "colab_type": "text"
      },
      "source": [
        "# **8.Question**\n",
        "**Units of Time**\n",
        "\n",
        "Create a program that reads duration from the user as a number of days, hours, minutes, and seconds. Compute and display the total number of seconds represented by this duration. "
      ]
    },
    {
      "cell_type": "code",
      "metadata": {
        "id": "BOvOHQEb9wTV",
        "colab_type": "code",
        "colab": {
          "base_uri": "https://localhost:8080/",
          "height": 101
        },
        "outputId": "1c8516fc-d296-4bbc-be60-b3038adff462"
      },
      "source": [
        "days=int(input(\"Enter the number of Days: \"))\n",
        "hours=int(input(\"Enter the number of Hours: \"))\n",
        "minutes=int(input(\"Enter the number of Minutes: \"))\n",
        "seconds=int(input(\"Enter the number of Seconds: \"))\n",
        "m=minutes*60\n",
        "h=hours*60*60\n",
        "d=days*24*60*60\n",
        "TotalSec=d+h+m+seconds;\n",
        "print(\"Total number of seconds represented by this duration :\",TotalSec,\"seconds\")"
      ],
      "execution_count": null,
      "outputs": [
        {
          "output_type": "stream",
          "text": [
            "Enter the number of Days: 10\n",
            "Enter the number of Hours: 9\n",
            "Enter the number of Minutes: 44\n",
            "Enter the number of Seconds: 50\n",
            "Total number of seconds represented by this duration : 899090 seconds\n"
          ],
          "name": "stdout"
        }
      ]
    },
    {
      "cell_type": "markdown",
      "metadata": {
        "id": "llQX6Xz7cSAE",
        "colab_type": "text"
      },
      "source": [
        "# **9.Question**\n",
        "**Sort 3 Integers**\n",
        "\n",
        "Given three integers (given through user input), sort the numbers using |min| and  |max| functions.\n"
      ]
    },
    {
      "cell_type": "code",
      "metadata": {
        "id": "y0xCGFBq_EO1",
        "colab_type": "code",
        "colab": {
          "base_uri": "https://localhost:8080/",
          "height": 84
        },
        "outputId": "1cc1c016-00ad-426a-9021-0c11b806c56b"
      },
      "source": [
        "n1=int(input(\"Enter Integer1 : \"))\n",
        "n2=int(input(\"Enter Integer2 : \"))\n",
        "n3=int(input(\"Enter Integer3 : \"))\n",
        "minimum=min(n1,n2,n3)\n",
        "maximum=max(n1,n2,n3)\n",
        "mid=(n1+n2+n3)-maximum-minimum\n",
        "print(\"Sorted Numbers :\",minimum,mid,maximum)"
      ],
      "execution_count": null,
      "outputs": [
        {
          "output_type": "stream",
          "text": [
            "Enter Integer1 : 5\n",
            "Enter Integer2 : 9\n",
            "Enter Integer3 : 1\n",
            "Sorted Numbers : 1 5 9\n"
          ],
          "name": "stdout"
        }
      ]
    },
    {
      "cell_type": "markdown",
      "metadata": {
        "id": "Ak0xb6OgcT78",
        "colab_type": "text"
      },
      "source": [
        "# **10.Question**\n",
        "Write a program that reads a date from the user and computes its immediate successor. The date is the format YYYY-MM-DD. So, 2020-04-15 will have the successor 2020-04-16."
      ]
    },
    {
      "cell_type": "code",
      "metadata": {
        "id": "KB3JJrEFsBaE",
        "colab_type": "code",
        "colab": {
          "base_uri": "https://localhost:8080/",
          "height": 84
        },
        "outputId": "761119a7-d689-4911-f116-3738494cbca4"
      },
      "source": [
        "year=int(input(\"Enter a year : \"))\n",
        "if year%400== 0:\n",
        "    leapyear=True\n",
        "elif year%100==0:\n",
        "    leapyear=False\n",
        "elif year%4==0:\n",
        "    leapyear=True\n",
        "else:\n",
        "    leapyear=False\n",
        "month=int(input(\"Enter a month between 1 to 12 : \"))\n",
        "if month in (1, 3, 5, 7, 8, 10, 12):\n",
        "    monthlength=31\n",
        "elif month==2:\n",
        "    if leapyear:\n",
        "        monthlength=29\n",
        "    else:\n",
        "        monthlength=28\n",
        "else:\n",
        "    monthlength=30\n",
        "day=int(input(\"Enter a day between 1 to 31 : \"))\n",
        "if day<monthlength:\n",
        "    day+=1\n",
        "else:\n",
        "    day=1\n",
        "    if month==12:\n",
        "        month=1\n",
        "        year+=1\n",
        "    else:\n",
        "        month+=1\n",
        "print(\"The immediate successor is YYYY-MM-DD : %d-%d-%d.\" %(year,month,day))"
      ],
      "execution_count": null,
      "outputs": [
        {
          "output_type": "stream",
          "text": [
            "Enter a year : 2020\n",
            "Enter a month between 1 to 12 : 8\n",
            "Enter a day between 1 to 31 : 23\n",
            "The immediate successor is YYYY-MM-DD : 2020-8-24.\n"
          ],
          "name": "stdout"
        }
      ]
    },
    {
      "cell_type": "markdown",
      "metadata": {
        "id": "6wqIh-2CdQGr",
        "colab_type": "text"
      },
      "source": [
        "# **11.Question**\n",
        "Compute product of a list of numbers\n",
        "\n",
        "[45 ,3,2,89,72,1,10,7]\n",
        "\n",
        "Output: 121111200\n"
      ]
    },
    {
      "cell_type": "code",
      "metadata": {
        "id": "WvOiwegZtmKN",
        "colab_type": "code",
        "colab": {
          "base_uri": "https://localhost:8080/",
          "height": 34
        },
        "outputId": "e783459a-6bdd-4c49-ed8a-30dd139802b3"
      },
      "source": [
        "num=[45,3,2,89,72,1,10,7]\n",
        "n=1\n",
        "for i in range(len(num)):\n",
        "    n=n*num[i]\n",
        "print(n)"
      ],
      "execution_count": null,
      "outputs": [
        {
          "output_type": "stream",
          "text": [
            "121111200\n"
          ],
          "name": "stdout"
        }
      ]
    },
    {
      "cell_type": "markdown",
      "metadata": {
        "id": "U6RSATPEdSFQ",
        "colab_type": "text"
      },
      "source": [
        "# **12.Question**\n",
        "Compute given Num_list =  [5, 6,8 ,34,89,1] to get desired output\n",
        "\n",
        "Output: Out_list=[11,14,42,123,90]\n"
      ]
    },
    {
      "cell_type": "code",
      "metadata": {
        "id": "R7sQDowQuSsB",
        "colab_type": "code",
        "colab": {
          "base_uri": "https://localhost:8080/",
          "height": 34
        },
        "outputId": "99f8726e-3772-4783-8acb-8b234cbc2dd2"
      },
      "source": [
        "Num_list=[5,6,8,34,89,1]\n",
        "Out_list=[]\n",
        "for i in range(len(Num_list)-1):\n",
        "    outlist=Num_list[i]+Num_list[i+1]\n",
        "    Out_list.append(outlist)\n",
        "print(\"Out_list=\",Out_list)"
      ],
      "execution_count": null,
      "outputs": [
        {
          "output_type": "stream",
          "text": [
            "Out_list= [11, 14, 42, 123, 90]\n"
          ],
          "name": "stdout"
        }
      ]
    },
    {
      "cell_type": "markdown",
      "metadata": {
        "id": "WGKvQ_LcdVol",
        "colab_type": "text"
      },
      "source": [
        "# **13.Question**\n",
        "Compute given Num_tuple =  (5, 6,8 ,3,9,1) to get desired output\n",
        "\n",
        "Output: Out_list = [5, 30, 240, 720, 6480, 6480]\n"
      ]
    },
    {
      "cell_type": "code",
      "metadata": {
        "id": "FDESl2oJvVK4",
        "colab_type": "code",
        "colab": {
          "base_uri": "https://localhost:8080/",
          "height": 34
        },
        "outputId": "ef8acd0e-bb8c-4f7b-d53e-43fb7d943546"
      },
      "source": [
        "Num_tuple=(5,6,8,3,9,1)\n",
        "Out_list=[]\n",
        "output=1\n",
        "for i in range(len(Num_tuple)):\n",
        "    output=output*Num_tuple[i]\n",
        "    Out_list.append(output)\n",
        "print(\"Out_list=\",Out_list)"
      ],
      "execution_count": null,
      "outputs": [
        {
          "output_type": "stream",
          "text": [
            "Out_list= [5, 30, 240, 720, 6480, 6480]\n"
          ],
          "name": "stdout"
        }
      ]
    },
    {
      "cell_type": "markdown",
      "metadata": {
        "id": "KZPT7gucvAFv",
        "colab_type": "text"
      },
      "source": [
        "# **14.Question**\n",
        "Write a Python code that takes a number and returns a list of its digits. So for 586392 it should return [5,8,6,3,9,2]"
      ]
    },
    {
      "cell_type": "code",
      "metadata": {
        "id": "772InLKly81u",
        "colab_type": "code",
        "colab": {
          "base_uri": "https://localhost:8080/",
          "height": 50
        },
        "outputId": "bfacac79-b5f3-41dc-d428-659505e00445"
      },
      "source": [
        "num=int(input(\"Enter number :\"))\n",
        "strlist=str(num)\n",
        "outlist=[]\n",
        "for i in strlist:\n",
        "  temp=int(i)\n",
        "  outlist.append(temp)\n",
        "print(outlist)"
      ],
      "execution_count": null,
      "outputs": [
        {
          "output_type": "stream",
          "text": [
            "Enter number :586392\n",
            "[5, 8, 6, 3, 9, 2]\n"
          ],
          "name": "stdout"
        }
      ]
    },
    {
      "cell_type": "markdown",
      "metadata": {
        "id": "oV_eISFAvCNY",
        "colab_type": "text"
      },
      "source": [
        "# **15.Question**\n",
        "Write a program that finds the longest palindromic substring of a given string"
      ]
    },
    {
      "cell_type": "code",
      "metadata": {
        "id": "U57nZdAU1DcT",
        "colab_type": "code",
        "colab": {
          "base_uri": "https://localhost:8080/",
          "height": 50
        },
        "outputId": "4adad55e-e5ce-482b-c5d3-5fc2c795b1a0"
      },
      "source": [
        "def longestpalindrome(n):\n",
        "    d=[[False for i in range(len(n))] for i in range(len(n))]\n",
        "    for i in range(len(n)):\n",
        "        d[i][i]=True\n",
        "    maxlen=1\n",
        "    start=0\n",
        "    for j in range(2,len(n)+1):\n",
        "        for i in range(len(n)-j+1):\n",
        "            end=i+j\n",
        "            if j==2:\n",
        "                if n[i]==n[end-1]:\n",
        "                    d[i][end-1]=True\n",
        "                    maxlen=j\n",
        "                    start=i\n",
        "            else:\n",
        "                if n[i]==n[end-1] and d[i+1][end-2]:\n",
        "                    d[i][end-1]=True\n",
        "                    maxlen=j\n",
        "                    start=i\n",
        "    return n[start:start+maxlen]\n",
        "n=input(\"Enter a string : \")\n",
        "print(longestpalindrome(n))"
      ],
      "execution_count": null,
      "outputs": [
        {
          "output_type": "stream",
          "text": [
            "Enter a string : hi madam how are you ?\n",
            " madam \n"
          ],
          "name": "stdout"
        }
      ]
    },
    {
      "cell_type": "markdown",
      "metadata": {
        "id": "HV99S0aQvEBX",
        "colab_type": "text"
      },
      "source": [
        "# **16.Question**\n",
        "**Substring Check (Bug Funny)**\n",
        "\n",
        "Given two binary strings, A (of length 10) and B (of length 5), \n",
        "\n",
        "output 1 if B is a substring of A and 0 otherwise.\n",
        "\n",
        "First two lines of input:\n",
        "\n",
        "1010110010   &emsp;&emsp;&emsp;        10110\n",
        "\n",
        "1110111011   &emsp;&emsp;&emsp;        10011\n",
        "\n",
        "First two lines of output:\n",
        "<br>\n",
        "1\n",
        "\n",
        "0\n"
      ]
    },
    {
      "cell_type": "code",
      "metadata": {
        "id": "IjdRjMyT3mzo",
        "colab_type": "code",
        "colab": {
          "base_uri": "https://localhost:8080/",
          "height": 67
        },
        "outputId": "bac485e8-5fc3-46d5-a016-f76d78a4b264"
      },
      "source": [
        "A=input(\"Enter binary string of length 10 :\")\n",
        "B=input(\"Enter binary string of length 5 :\")\n",
        "if (B in A): \n",
        "  print(\"Output=1\") \n",
        "else: \n",
        "  print(\"Output=\")"
      ],
      "execution_count": 36,
      "outputs": [
        {
          "output_type": "stream",
          "text": [
            "Enter binary string of length 10 :1010110010\n",
            "Enter binary string of length 5 :10110\n",
            "Output=1\n"
          ],
          "name": "stdout"
        }
      ]
    },
    {
      "cell_type": "markdown",
      "metadata": {
        "id": "tGMmDPclvF4-",
        "colab_type": "text"
      },
      "source": [
        "# **17.Question**\n",
        "**POUR1 - Pouring water**\n",
        "Given two vessels, one of which can accommodate a litres of water and the other - b litres of water, determine the number of steps required to obtain exactly c litres of water in one of the vessels.\n",
        "At the beginning both vessels are empty. The following operations are counted as 'steps':\n",
        "\n",
        "•\temptying a vessel,\n",
        "\n",
        "•\tfilling a vessel,\n",
        "\n",
        "•\tpouring water from one vessel to the other,\n",
        "\n",
        "without spilling, until one of the vessels is either full or empty.\n",
        "\n",
        "**Input**\n",
        "\n",
        "An integer t, 1<=t<=100, denoting the number of testcases , followed by t sets of input data, each consisting of three positive integers a, b, c, not larger than 40000, given in separate lines.\n",
        "\n",
        "**Output**\n",
        "\n",
        "For each set of input data, output the minimum number of steps required to obtain c litres, or -1 if this is impossible.\n",
        "\n",
        "Example\n",
        "Sample input:\n",
        "\n",
        "2\n",
        "\n",
        "5\n",
        "2\n",
        "3\n",
        "\n",
        "2\n",
        "3\n",
        "4\n",
        " \n",
        "Sample output:\n",
        "\n",
        "2\n",
        "\n",
        "-1\n"
      ]
    },
    {
      "cell_type": "code",
      "metadata": {
        "id": "t_-tCMcF77d8",
        "colab_type": "code",
        "colab": {
          "base_uri": "https://localhost:8080/",
          "height": 168
        },
        "outputId": "48b4c550-27d4-4e89-c1de-10658b19657b"
      },
      "source": [
        "def ans(a,b,c):\n",
        "    j=0\n",
        "    vessel1=0\n",
        "    vessel2=0\n",
        "    while vessel1!=c and vessel2!=c:\n",
        "        if vessel2==0: \n",
        "            vessel2=b \n",
        "            j+=1\n",
        "        if vessel1 == a: \n",
        "            vessel1 = 0\n",
        "            j+=1\n",
        "        if vessel2<a-vessel1:\n",
        "            temp=vessel2\n",
        "        else:\n",
        "            temp=a-vessel1\n",
        "        vessel1=vessel1+temp\n",
        "        vessel2=vessel2-temp\n",
        "        j+=1\n",
        "    return j\n",
        "        \n",
        "n=int(input('Enter number of test cases: '))\n",
        "for i in range(0,n):\n",
        "    a=int(input('Enter capacity of A vessel: '))\n",
        "    b=int(input('Enter capacity of B vessel: '))\n",
        "    c=int(input('Enter required litres of water: '))\n",
        "    if a<c and b<c:\n",
        "        answer=-1\n",
        "    else:\n",
        "        if ans(a,b,c)<ans(b,a,c):\n",
        "            answer=ans(a,b,c)\n",
        "        else:\n",
        "            answer=ans(b,a,c)\n",
        "    print(answer)"
      ],
      "execution_count": 39,
      "outputs": [
        {
          "output_type": "stream",
          "text": [
            "Enter number of test cases: 2\n",
            "Enter capacity of A vessel: 5\n",
            "Enter capacity of B vessel: 2\n",
            "Enter required litres of water: 3\n",
            "2\n",
            "Enter capacity of A vessel: 2\n",
            "Enter capacity of B vessel: 3\n",
            "Enter required litres of water: 4\n",
            "-1\n"
          ],
          "name": "stdout"
        }
      ]
    }
  ]
}