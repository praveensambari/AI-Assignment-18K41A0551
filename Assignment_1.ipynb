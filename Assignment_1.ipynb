{
  "nbformat": 4,
  "nbformat_minor": 0,
  "metadata": {
    "colab": {
      "name": "Assignment 1.ipynb",
      "provenance": [],
      "collapsed_sections": [],
      "authorship_tag": "ABX9TyOalPC+E7CC8Fxj/cWXHju6",
      "include_colab_link": true
    },
    "kernelspec": {
      "name": "python3",
      "display_name": "Python 3"
    }
  },
  "cells": [
    {
      "cell_type": "markdown",
      "metadata": {
        "id": "view-in-github",
        "colab_type": "text"
      },
      "source": [
        "<a href=\"https://colab.research.google.com/github/praveensambari/AI-Assignments-18K41A0551/blob/master/Assignment_1.ipynb\" target=\"_parent\"><img src=\"https://colab.research.google.com/assets/colab-badge.svg\" alt=\"Open In Colab\"/></a>"
      ]
    },
    {
      "cell_type": "markdown",
      "metadata": {
        "id": "BrK5BEBcO2Q6",
        "colab_type": "text"
      },
      "source": [
        "# **1.Question**\n",
        "Develop a code for below scenario\n"
      ]
    },
    {
      "cell_type": "code",
      "metadata": {
        "id": "BPQHQ02Ybw2r",
        "colab_type": "code",
        "colab": {
          "base_uri": "https://localhost:8080/",
          "height": 67
        },
        "outputId": "028db118-e845-4529-9d4c-6fd8375bbbdb"
      },
      "source": [
        "year=int(input(\"Enter year :\"))\n",
        "rem=year%12\n",
        "print(\"Reminder :\",rem)\n",
        "scenario={0:\"monkey\",1:\"rooster\",2:\"dog\",3:\"pig\",4:\"rat\",5:\"ox\",6:\"tiger\",7:\"rabbit\",8:\"dragon\",9:\"snake\",10:\"horse\",11:\"sheep\"}\n",
        "print(scenario[rem])"
      ],
      "execution_count": 20,
      "outputs": [
        {
          "output_type": "stream",
          "text": [
            "Enter year :2020\n",
            "Reminder : 4\n",
            "rat\n"
          ],
          "name": "stdout"
        }
      ]
    },
    {
      "cell_type": "markdown",
      "metadata": {
        "id": "TTO0ESfzTGkh",
        "colab_type": "text"
      },
      "source": [
        "# **2.Question**\n",
        "  A Quick Fox Transport Co. wants to develop an application for calculating amount based on distance and weight of goods. The charges (Amount) to be calculated as per rates given below. \n",
        " \n",
        "**Input:** Distance to be travel: 520     \n",
        "        Weight of the goods: 50\n",
        "\n",
        "**Output:** Amount to be charged: 3120 /-\n"
      ]
    },
    {
      "cell_type": "code",
      "metadata": {
        "id": "C55ut_OQTGG7",
        "colab_type": "code",
        "colab": {
          "base_uri": "https://localhost:8080/",
          "height": 67
        },
        "outputId": "d4acb0c3-504d-4b9e-8e64-12c618ae6a7c"
      },
      "source": [
        "distance=int(input(\"Distance to be travel :\"))\n",
        "weight=int(input(\"weight of the goods :\"))\n",
        "if distance >= 500:\n",
        "  if weight>= 100:\n",
        "    cost=5*distance\n",
        "  elif weight>=10 and weight<100:\n",
        "    cost=6*distance\n",
        "  else:\n",
        "    cost=7*distance\n",
        "\n",
        "else :\n",
        "  if weight>= 100:\n",
        "    cost=8*distance\n",
        "  else:\n",
        "    cost=5*distance\n",
        "\n",
        "print(\"Amount to be charged :\",cost,\"/-\")\n"
      ],
      "execution_count": 18,
      "outputs": [
        {
          "output_type": "stream",
          "text": [
            "Distance to be travel :520\n",
            "weight of the goods :50\n",
            "Amount to be charged : 3120 /-\n"
          ],
          "name": "stdout"
        }
      ]
    },
    {
      "cell_type": "markdown",
      "metadata": {
        "id": "R1sEGJoQWnuP",
        "colab_type": "text"
      },
      "source": [
        "# **3.Question**\n",
        "  The Entertainment Paradise\n",
        "\n",
        " A theater in Delhi wants to develop a computerized Booking System. The theater offers different types of seats. The Ticket rates are- Stalls- Rs. 625/-, Circle- Rs.750/-, Upper Class- Rs.850/- and Box- Rs.1000/-. A discount is given 10% of total amount if tickets are purchased on Cash. In case of credit card holders 5% discount is given. \n",
        "\n",
        "**Input:** \tType of Seat: Circle    \n",
        "            Payment mode: cash\n",
        "\n",
        "**Output:** Cost of ticket: 675\n"
      ]
    },
    {
      "cell_type": "code",
      "metadata": {
        "id": "fOGaN7SYXJYt",
        "colab_type": "code",
        "colab": {
          "base_uri": "https://localhost:8080/",
          "height": 67
        },
        "outputId": "7085796a-1114-4a80-ad23-907777803bdd"
      },
      "source": [
        "seat=input(\"Type of Seat :\")\n",
        "pm=input(\"Payment mode :\")\n",
        "typeofseat={\"Stalls\":625,\"Circle\":750,\"Upper Class\":850,\"Box\":1000}\n",
        "if pm==\"cash\":\n",
        "  tempcost=typeofseat[seat]*10/100\n",
        "  cost=typeofseat[seat]-tempcost\n",
        "else:\n",
        "  tempcost=typeofseat[seat]*5/100\n",
        "  cost=typeofseat[seat]-tempcost\n",
        "print(\"Cost of ticket:\",int(cost))"
      ],
      "execution_count": 31,
      "outputs": [
        {
          "output_type": "stream",
          "text": [
            "Type of Seat :Circle\n",
            "Payment mode :cash\n",
            "Cost of ticket: 675\n"
          ],
          "name": "stdout"
        }
      ]
    },
    {
      "cell_type": "markdown",
      "metadata": {
        "id": "Ypz2-TpBcoCV",
        "colab_type": "text"
      },
      "source": [
        "# **4.Question**\n",
        "Develop a program that calculates the energy needed to heat water from an initial temperature to a final temperature. Your program should prompt the user to enter the amount of water in kilograms and the initial and final temperatures of the water. The formula to compute the energy is \n",
        "\n",
        "Q = M * (finalTemperature – initialTemperature) * 4184.\n",
        "\n",
        "where M is the weight of water in kilograms, temperatures are in degrees Celsius,  and energy Q is measured in joules. (L6)\n"
      ]
    },
    {
      "cell_type": "code",
      "metadata": {
        "id": "JRSSFS3adF08",
        "colab_type": "code",
        "colab": {
          "base_uri": "https://localhost:8080/",
          "height": 84
        },
        "outputId": "5f3fa204-dce1-42aa-d886-dc668332aae4"
      },
      "source": [
        "M=int(input(\"Enter the amount of water in Kg :\"))\n",
        "initial_temp=int(input(\"Initial Temperature :\"))\n",
        "final_temp=int(input(\"Final Temperature :\"))\n",
        "Q=M*(final_temp-initial_temp)*4184\n",
        "print(\"Energy needed to heat water :\",Q)"
      ],
      "execution_count": 36,
      "outputs": [
        {
          "output_type": "stream",
          "text": [
            "Enter the amount of water in Kg :5\n",
            "Initial Temperature :46\n",
            "Final Temperature :75\n",
            "Energy needed to heat water : 606680\n"
          ],
          "name": "stdout"
        }
      ]
    },
    {
      "cell_type": "markdown",
      "metadata": {
        "id": "KEOdaWQ4faJn",
        "colab_type": "text"
      },
      "source": [
        "# **5.Question**\n",
        "Develop a program that prompts user to enter month and  print  \n",
        "a.\t“Winter ” -   December ,January and February  \n",
        "b.\t“Spring”  -   March ,April and May  \n",
        "c.\t“Summer”  --- June ,July, August  \n",
        "d.\t“Autumn ”  -- September ,October, November \n"
      ]
    },
    {
      "cell_type": "code",
      "metadata": {
        "id": "C-XkhzNkfxS3",
        "colab_type": "code",
        "colab": {
          "base_uri": "https://localhost:8080/",
          "height": 50
        },
        "outputId": "2a05cf73-1ca4-410a-c482-411e7e40441d"
      },
      "source": [
        "month=input(\"Enter Month :\")\n",
        "winter=[\"December\",\"January\",\"February\"]\n",
        "spring=[\"March\",\"April\",\"May\"]\n",
        "summer=[\"June\",\"July\",\"August\"]\n",
        "autumn=[\"September\",\"October\",\"November\"]\n",
        "if month in winter:\n",
        "  print(\"Winter\")\n",
        "elif month in spring:\n",
        "  print(\"Spring\")\n",
        "elif month in summer:\n",
        "  print(\"Summer\")\n",
        "elif month in autumn:\n",
        "  print(\"Autumn\")\n",
        "else:\n",
        "  print(\"Enter month with capital letter\")"
      ],
      "execution_count": 40,
      "outputs": [
        {
          "output_type": "stream",
          "text": [
            "Enter Month :March\n",
            "Spring\n"
          ],
          "name": "stdout"
        }
      ]
    },
    {
      "cell_type": "markdown",
      "metadata": {
        "id": "aloj5yCGjF8r",
        "colab_type": "text"
      },
      "source": [
        "# **6.Question**\n",
        "Body Mass Index"
      ]
    },
    {
      "cell_type": "code",
      "metadata": {
        "id": "GA1vJ7YSkkRu",
        "colab_type": "code",
        "colab": {
          "base_uri": "https://localhost:8080/",
          "height": 118
        },
        "outputId": "9c3f7c93-66b3-40bc-cfb0-613b14fe8dc3"
      },
      "source": [
        "weight_pound=float(input(\"Enter the Weight in pounds:\"))\n",
        "height_inches=float(input(\"Enter the Height in inches:\"))\n",
        "weight_kgs=weight_pound*0.45359237\n",
        "print(\"Weight in kgs :\",weight_kgs)\n",
        "height_meters=height_inches*0.0254\n",
        "print(\"Height in Meters :\",height_meters)\n",
        "BMI=weight_kgs/(height_meters**2)\n",
        "if BMI<18.5:\n",
        "  print(\"Interpretation : Underweight\")\n",
        "elif BMI>=18.5 and BMI<25.0:\n",
        "  print(\"Interpretation : Normal\")\n",
        "elif BMI>=25.0 and BMI<30.0:\n",
        "  print(\"Interpretation : Overweight\")\n",
        "else:\n",
        "  print(\"Interpretation : Obese\") \n",
        "\n",
        "print(\"Boby Mass Index :\",BMI)"
      ],
      "execution_count": 50,
      "outputs": [
        {
          "output_type": "stream",
          "text": [
            "Enter the Weight in pounds:10\n",
            "Enter the Height in inches:30\n",
            "Weight in kgs : 4.535923700000001\n",
            "Height in Meters : 0.762\n",
            "Interpretation : Underweight\n",
            "Boby Mass Index : 7.811884218212882\n"
          ],
          "name": "stdout"
        }
      ]
    },
    {
      "cell_type": "markdown",
      "metadata": {
        "id": "0pYU3vYArVDG",
        "colab_type": "text"
      },
      "source": [
        "# **7.Question**\n",
        "Write a program that reads an integer between 100 and 1000 and adds all the digits in the integer  \n",
        "(\tex: input 745 \t# output =16\t(7+4+5)\t)"
      ]
    },
    {
      "cell_type": "code",
      "metadata": {
        "id": "0QwwWqdorf5P",
        "colab_type": "code",
        "colab": {
          "base_uri": "https://localhost:8080/",
          "height": 50
        },
        "outputId": "fc726e20-717b-4e9f-af0f-239b8035bd1f"
      },
      "source": [
        "num=int(input(\"Enter the number between 100 and 1000:\"))\n",
        "rem=0\n",
        "add=0\n",
        "if num>100 and num<=1000:\n",
        "    while num>0:\n",
        "        rem=num%10\n",
        "        add=add+rem\n",
        "        num=num//10\n",
        "    print(add)"
      ],
      "execution_count": 51,
      "outputs": [
        {
          "output_type": "stream",
          "text": [
            "Enter the number between 100 and 1000:745\n",
            "16\n"
          ],
          "name": "stdout"
        }
      ]
    },
    {
      "cell_type": "markdown",
      "metadata": {
        "id": "XoUqu0YcsV-a",
        "colab_type": "text"
      },
      "source": [
        "# **8.Question**\n",
        "Print all palindrome numbers between 1 to 1000."
      ]
    },
    {
      "cell_type": "code",
      "metadata": {
        "id": "EdA6Vlvas1A5",
        "colab_type": "code",
        "colab": {
          "base_uri": "https://localhost:8080/",
          "height": 104
        },
        "outputId": "6576c9a2-5bcb-4f3b-99a4-cef6ed09aa71"
      },
      "source": [
        "min=int(input(\"Enter Minimum number :\"))\n",
        "max=int(input(\"Enter Maximum number :\"))\n",
        "print(\"palindrome numbers between {} to {} :\".format(min, max))\n",
        "for num in range(min,max):\n",
        "  temp=num\n",
        "  rev=0\n",
        "  while temp>0:\n",
        "    rem=temp%10\n",
        "    rev=(rev*10)+rem\n",
        "    temp=temp//10\n",
        "  if num==rev:\n",
        "    print(num,end=\" \")\n",
        "\n"
      ],
      "execution_count": 61,
      "outputs": [
        {
          "output_type": "stream",
          "text": [
            "Enter Minimum number :1\n",
            "Enter Maximum number :1000\n",
            "palindrome numbers between 1 to 1000 :\n",
            "1 2 3 4 5 6 7 8 9 11 22 33 44 55 66 77 88 99 101 111 121 131 141 151 161 171 181 191 202 212 222 232 242 252 262 272 282 292 303 313 323 333 343 353 363 373 383 393 404 414 424 434 444 454 464 474 484 494 505 515 525 535 545 555 565 575 585 595 606 616 626 636 646 656 666 676 686 696 707 717 727 737 747 757 767 777 787 797 808 818 828 838 848 858 868 878 888 898 909 919 929 939 949 959 969 979 989 999 "
          ],
          "name": "stdout"
        }
      ]
    },
    {
      "cell_type": "markdown",
      "metadata": {
        "id": "Kess_VgNAopb",
        "colab_type": "text"
      },
      "source": [
        "# **9.Question**\n",
        "Print all Armstrong numbers between 1 to 1000. "
      ]
    },
    {
      "cell_type": "code",
      "metadata": {
        "id": "UPt0RTVmAxeW",
        "colab_type": "code",
        "colab": {
          "base_uri": "https://localhost:8080/",
          "height": 84
        },
        "outputId": "ed2e5f3c-0e2e-4658-b39d-d2a1d4c10038"
      },
      "source": [
        "min=int(input(\"Enter Minimum number :\"))\n",
        "max=int(input(\"Enter Maximum number :\"))\n",
        "print(\"Armstrong numbers between {} to {} :\".format(min, max))\n",
        "for num in range(min,max):\n",
        "  sum=0\n",
        "  temp=num\n",
        "  while temp>0:\n",
        "    rem=temp%10\n",
        "    sum=sum+rem**3\n",
        "    temp=temp//10\n",
        "  if num==sum:\n",
        "    print(num,end=\" \")\n"
      ],
      "execution_count": 63,
      "outputs": [
        {
          "output_type": "stream",
          "text": [
            "Enter Minimum number :1\n",
            "Enter Maximum number :1000\n",
            "Armstrong numbers between 1 to 1000 :\n",
            "1 153 370 371 407 "
          ],
          "name": "stdout"
        }
      ]
    },
    {
      "cell_type": "markdown",
      "metadata": {
        "id": "MFu0TTbQBoZa",
        "colab_type": "text"
      },
      "source": [
        "# **10.Question**\n",
        "Write a Java program which iterates the integers from 1 to 100. For multiples of three print \"Fizz\" instead of the number and print \"Buzz\" for the multiples of five. When number is divided by both three and five, print \"fizz buzz\"."
      ]
    },
    {
      "cell_type": "code",
      "metadata": {
        "id": "X29khK4rCJAR",
        "colab_type": "code",
        "colab": {
          "base_uri": "https://localhost:8080/",
          "height": 1000
        },
        "outputId": "8a6ab024-4c2f-4e2d-9155-e58c506ee52b"
      },
      "source": [
        "for i in range(1,100):\n",
        "    if(i%3==0 and i%5==0):\n",
        "        print(\"fizz buzz\")\n",
        "    elif i%3==0:\n",
        "        print(\"Fizz\")\n",
        "    elif i%5==0:\n",
        "        print(\"Buzz\")\n",
        "    else:\n",
        "        print(i)"
      ],
      "execution_count": 65,
      "outputs": [
        {
          "output_type": "stream",
          "text": [
            "1\n",
            "2\n",
            "Fizz\n",
            "4\n",
            "Buzz\n",
            "Fizz\n",
            "7\n",
            "8\n",
            "Fizz\n",
            "Buzz\n",
            "11\n",
            "Fizz\n",
            "13\n",
            "14\n",
            "fizz buzz\n",
            "16\n",
            "17\n",
            "Fizz\n",
            "19\n",
            "Buzz\n",
            "Fizz\n",
            "22\n",
            "23\n",
            "Fizz\n",
            "Buzz\n",
            "26\n",
            "Fizz\n",
            "28\n",
            "29\n",
            "fizz buzz\n",
            "31\n",
            "32\n",
            "Fizz\n",
            "34\n",
            "Buzz\n",
            "Fizz\n",
            "37\n",
            "38\n",
            "Fizz\n",
            "Buzz\n",
            "41\n",
            "Fizz\n",
            "43\n",
            "44\n",
            "fizz buzz\n",
            "46\n",
            "47\n",
            "Fizz\n",
            "49\n",
            "Buzz\n",
            "Fizz\n",
            "52\n",
            "53\n",
            "Fizz\n",
            "Buzz\n",
            "56\n",
            "Fizz\n",
            "58\n",
            "59\n",
            "fizz buzz\n",
            "61\n",
            "62\n",
            "Fizz\n",
            "64\n",
            "Buzz\n",
            "Fizz\n",
            "67\n",
            "68\n",
            "Fizz\n",
            "Buzz\n",
            "71\n",
            "Fizz\n",
            "73\n",
            "74\n",
            "fizz buzz\n",
            "76\n",
            "77\n",
            "Fizz\n",
            "79\n",
            "Buzz\n",
            "Fizz\n",
            "82\n",
            "83\n",
            "Fizz\n",
            "Buzz\n",
            "86\n",
            "Fizz\n",
            "88\n",
            "89\n",
            "fizz buzz\n",
            "91\n",
            "92\n",
            "Fizz\n",
            "94\n",
            "Buzz\n",
            "Fizz\n",
            "97\n",
            "98\n",
            "Fizz\n"
          ],
          "name": "stdout"
        }
      ]
    },
    {
      "cell_type": "markdown",
      "metadata": {
        "id": "UOp-O5KdDObP",
        "colab_type": "text"
      },
      "source": [
        "# **11.Question**\n",
        "Spider Problem: A spider present at the bottom of the well of height H, needs to get out of it, using the slippery wall of the well. It decides to climb up the well; it goes up U meters and slips down D meters in one single step. So, in each step it covers (U-D) meters, and if the spider gets out of the well by covering U meters in the last step it doesn’t a slip back. For example, if the spider climbs up 5 meters and slips down by 3 meters in a single step, it covers (U - D) m in each step and 96 m in 48 steps, but in the 49th step it climbs up 5 m and reaches out of the well and it will not slip down and the step is counted as one step.     \n",
        "Input: Each test case will contain 3 integers ’H’ height of the well, next ’U’ meters climbs up in each step, and the last ’D’ meters slips down in each step.\n",
        "Output:  The number of steps 'N' required to get out of the well. \n",
        "\n",
        "Example 1: \n",
        "\n",
        " \tInput:\t\t\t\t\t\tOuput \n",
        "\t200 50 1\t\t\t\t\t    5\n",
        "\tExample 2:\n",
        " \tInput:\t\t\t\t\t\tOutput\n",
        "\t500 20 15\t\t\t\t\t   98\n"
      ]
    },
    {
      "cell_type": "code",
      "metadata": {
        "id": "tnQBN6t7Dh2W",
        "colab_type": "code",
        "colab": {
          "base_uri": "https://localhost:8080/",
          "height": 84
        },
        "outputId": "6e1e0758-8e81-49ab-b1e1-10dcb4ea9618"
      },
      "source": [
        "H=int(input(\"Height of well: \"))\n",
        "U=int(input(\"Meters spider climbs up in each step: \"))\n",
        "D=int(input(\"Meters spider slips down in each step: \"))\n",
        "steps=0\n",
        "while H>=U:\n",
        "  steps=steps+1\n",
        "  H-=(U-D)\n",
        "steps+=1\n",
        "print(\"Number of Steps :\",steps)"
      ],
      "execution_count": 70,
      "outputs": [
        {
          "output_type": "stream",
          "text": [
            "Height of well: 200\n",
            "Meters spider climbs up in each step: 50\n",
            "Meters spider slips down in each step: 1\n",
            "Number of Steps : 5\n"
          ],
          "name": "stdout"
        }
      ]
    }
  ]
}