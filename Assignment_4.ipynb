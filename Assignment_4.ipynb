{
  "nbformat": 4,
  "nbformat_minor": 0,
  "metadata": {
    "colab": {
      "name": "Assignment 4.ipynb",
      "provenance": [],
      "collapsed_sections": [],
      "authorship_tag": "ABX9TyMfyA8ATk1EEsE6dfp0gSEe",
      "include_colab_link": true
    },
    "kernelspec": {
      "name": "python3",
      "display_name": "Python 3"
    }
  },
  "cells": [
    {
      "cell_type": "markdown",
      "metadata": {
        "id": "view-in-github",
        "colab_type": "text"
      },
      "source": [
        "<a href=\"https://colab.research.google.com/github/praveensambari/AI-Assignments-18K41A0551/blob/master/Assignment_4.ipynb\" target=\"_parent\"><img src=\"https://colab.research.google.com/assets/colab-badge.svg\" alt=\"Open In Colab\"/></a>"
      ]
    },
    {
      "cell_type": "markdown",
      "metadata": {
        "id": "SUD9bd_0KIRU"
      },
      "source": [
        "# **1.Question**\n",
        "Find the salary for the experience of 4.2 years and 5.2 years from the given dataset (salary_data) using simple linear regression. Train the model up to 10 iteration. And plot graph for error rate."
      ]
    },
    {
      "cell_type": "code",
      "metadata": {
        "id": "PyZwkfG-h4Go"
      },
      "source": [
        "import numpy as np\n",
        "import pandas as pd\n",
        "import matplotlib.pyplot as plt\n",
        "er=[]\n",
        "m1=[]\n",
        "c1=[]\n",
        "te=[]\n",
        "def compute_error(c, m, x,y):\n",
        "    totalError = 0\n",
        "    x = x\n",
        "    y = y\n",
        "    m1.append(m)\n",
        "    c1.append(c)\n",
        "    for i in range(0,len(x)):\n",
        "        totalError+=(((m * x[i] + c)-y[i]) ** 2)\n",
        "    er.append(totalError/len(x))\n",
        "def step_gradient(c_current, m_current, x,y, learningRate):\n",
        "  c_gradient = 0.0\n",
        "  m_gradient = 0.0\n",
        "  N = float(len(x))\n",
        "  x = x\n",
        "  y = y\n",
        "  cg=[]\n",
        "  mg=[]\n",
        "  for i in range(0,len(x)):\n",
        "      cg.append(((m_current * x[i]) + c_current)-y[i])\n",
        "      mg.append(x[i] * (((m_current * x) + c_current)-y[i]))\n",
        "  c_gradient=(np.array(cg).sum())/N\n",
        "  m_gradient=(np.array(mg).sum())/N\n",
        "  new_c = c_current - (learningRate * c_gradient)\n",
        "  new_m = m_current - (learningRate * m_gradient)\n",
        "  compute_error(new_c,new_m,x,y)\n",
        "  return [new_c, new_m]\n",
        "\n",
        "def gradient_descent_runner(x,y, starting_c, starting_m, learning_rate, num_iterations):\n",
        "    c = starting_c\n",
        "    m = starting_m\n",
        "    for i in range(num_iterations):\n",
        "        c,m=step_gradient(c, m, x,y, learning_rate)\n",
        "      #print(c,m)\n",
        "   \n",
        "def run():\n",
        "    sn = pd.read_csv('Salary_Data.csv')\n",
        "    x1=sn.iloc[:,0:1]\n",
        "    y1=sn.iloc[:,1:2]\n",
        "    x=np.array(x1)\n",
        "    y=np.array(y1)\n",
        "    learning_rate = 0.001\n",
        "    initial_c = 1 \n",
        "    initial_m = 1 \n",
        "    num_iterations = 100\n",
        "    compute_error(initial_c, initial_m,x,y)\n",
        "    gradient_descent_runner(x,y, initial_c, initial_m, learning_rate, num_iterations)\n",
        "    \n",
        "\n",
        "\n",
        "run()\n",
        "it=np.arange(0,101)"
      ],
      "execution_count": 14,
      "outputs": []
    },
    {
      "cell_type": "code",
      "metadata": {
        "id": "2kxFC0ryjlc3",
        "outputId": "12351d2e-25bc-47bd-d728-3acb4994a786",
        "colab": {
          "base_uri": "https://localhost:8080/",
          "height": 352
        }
      },
      "source": [
        "sn = pd.read_csv('Salary_Data.csv')\n",
        "x1=sn.iloc[:,0:1]\n",
        "y1=sn.iloc[:,1:2]\n",
        "x=np.array(x1)\n",
        "plt.scatter(x1,y1)\n",
        "m=max(np.array(m1))\n",
        "c=min(np.array(c1))\n",
        "e=np.array(er)\n",
        "print(er)\n",
        "e1=min(e)\n",
        "print(er.index(e1))\n",
        "print(m1[er.index(e1)],c1[er.index(e1)])\n",
        "p=[]\n",
        "for i in range(0,len(x1)):\n",
        "    p.append(m1[er.index(e1)]*x[i]+c1[er.index(e1)])\n",
        "plt.plot(x1,p)"
      ],
      "execution_count": 15,
      "outputs": [
        {
          "output_type": "stream",
          "text": [
            "[array([6.50184851e+09]), array([2.16091161e+08]), array([5.56540063e+08]), array([6.38537772e+08]), array([6.51956578e+08]), array([6.54269287e+08]), array([6.54877442e+08]), array([6.55226099e+08]), array([6.55535374e+08]), array([6.55838748e+08]), array([6.56141315e+08]), array([6.56443848e+08]), array([6.56746466e+08]), array([6.57049186e+08]), array([6.57352011e+08]), array([6.57654941e+08]), array([6.57957977e+08]), array([6.58261119e+08]), array([6.58564365e+08]), array([6.58867718e+08]), array([6.59171175e+08]), array([6.59474739e+08]), array([6.59778407e+08]), array([6.60082182e+08]), array([6.60386061e+08]), array([6.60690047e+08]), array([6.60994137e+08]), array([6.61298334e+08]), array([6.61602635e+08]), array([6.61907042e+08]), array([6.62211555e+08]), array([6.62516173e+08]), array([6.62820897e+08]), array([6.63125726e+08]), array([6.63430661e+08]), array([6.63735701e+08]), array([6.64040846e+08]), array([6.64346097e+08]), array([6.64651454e+08]), array([6.64956916e+08]), array([6.65262483e+08]), array([6.65568156e+08]), array([6.65873935e+08]), array([6.66179819e+08]), array([6.66485808e+08]), array([6.66791903e+08]), array([6.67098104e+08]), array([6.6740441e+08]), array([6.67710821e+08]), array([6.68017338e+08]), array([6.6832396e+08]), array([6.68630688e+08]), array([6.68937522e+08]), array([6.69244461e+08]), array([6.69551505e+08]), array([6.69858655e+08]), array([6.7016591e+08]), array([6.70473271e+08]), array([6.70780737e+08]), array([6.71088309e+08]), array([6.71395986e+08]), array([6.71703769e+08]), array([6.72011657e+08]), array([6.72319651e+08]), array([6.7262775e+08]), array([6.72935955e+08]), array([6.73244265e+08]), array([6.73552681e+08]), array([6.73861202e+08]), array([6.74169828e+08]), array([6.74478561e+08]), array([6.74787398e+08]), array([6.75096341e+08]), array([6.7540539e+08]), array([6.75714544e+08]), array([6.76023804e+08]), array([6.76333169e+08]), array([6.76642639e+08]), array([6.76952215e+08]), array([6.77261897e+08]), array([6.77571684e+08]), array([6.77881576e+08]), array([6.78191574e+08]), array([6.78501678e+08]), array([6.78811887e+08]), array([6.79122201e+08]), array([6.79432621e+08]), array([6.79743146e+08]), array([6.80053777e+08]), array([6.80364514e+08]), array([6.80675356e+08]), array([6.80986303e+08]), array([6.81297356e+08]), array([6.81608514e+08]), array([6.81919778e+08]), array([6.82231147e+08]), array([6.82542622e+08]), array([6.82854202e+08]), array([6.83165888e+08]), array([6.83477679e+08]), array([6.83789576e+08])]\n",
            "1\n",
            "14321.954654666666 76.99668666666668\n"
          ],
          "name": "stdout"
        },
        {
          "output_type": "execute_result",
          "data": {
            "text/plain": [
              "[<matplotlib.lines.Line2D at 0x7fadbfad5c50>]"
            ]
          },
          "metadata": {
            "tags": []
          },
          "execution_count": 15
        },
        {
          "output_type": "display_data",
          "data": {
            "image/png": "[encoded data removed]",
            "text/plain": [
              "<Figure size 432x288 with 1 Axes>"
            ]
          },
          "metadata": {
            "tags": [],
            "needs_background": "light"
          }
        }
      ]
    },
    {
      "cell_type": "code",
      "metadata": {
        "id": "ih_tadv0m18W",
        "outputId": "668c1c59-14fc-4369-ff10-fc8be51c64f0",
        "colab": {
          "base_uri": "https://localhost:8080/",
          "height": 293
        }
      },
      "source": [
        "a=np.arange(0,101)\n",
        "plt.plot(a,er)"
      ],
      "execution_count": 19,
      "outputs": [
        {
          "output_type": "execute_result",
          "data": {
            "text/plain": [
              "[<matplotlib.lines.Line2D at 0x7fadbf97fef0>]"
            ]
          },
          "metadata": {
            "tags": []
          },
          "execution_count": 19
        },
        {
          "output_type": "display_data",
          "data": {
            "image/png": "[encoded data removed]",
            "text/plain": [
              "<Figure size 432x288 with 1 Axes>"
            ]
          },
          "metadata": {
            "tags": [],
            "needs_background": "light"
          }
        }
      ]
    },
    {
      "cell_type": "code",
      "metadata": {
        "id": "8sV1REk3NPuB",
        "outputId": "c344797a-c54e-42b9-bd1d-6f0327b4daa8",
        "colab": {
          "base_uri": "https://localhost:8080/",
          "height": 50
        }
      },
      "source": [
        "s1=m1[er.index(e1)]*4.2+c1[er.index(e1)]\n",
        "s2=m1[er.index(e1)]*5.2+c1[er.index(e1)]\n",
        "print(\"Salary for the experience of 4.2 years:\",s1)\n",
        "print(\"Salary for the experience of 5.2 years:\",s2)"
      ],
      "execution_count": 12,
      "outputs": [
        {
          "output_type": "stream",
          "text": [
            "Salary for the experience of 4.2 years: 60229.20623626666\n",
            "Salary for the experience of 5.2 years: 74551.16089093333\n"
          ],
          "name": "stdout"
        }
      ]
    },
    {
      "cell_type": "markdown",
      "metadata": {
        "id": "1uXyaQCtLVnr"
      },
      "source": [
        "# **2.Question**\n",
        "Find perfect model to predict brain weight from given dataset (datasets_56097_107686_headbrain). Train the model up to 15 iterations and visualize your results."
      ]
    },
    {
      "cell_type": "code",
      "metadata": {
        "id": "mim_beYaLO5b"
      },
      "source": [
        "import numpy as np\n",
        "import pandas as pd\n",
        "import matplotlib.pyplot as plt\n",
        " \n",
        "er=[]\n",
        "w_1=[]\n",
        "w_2=[]\n",
        "w_3=[]\n",
        "w_0=[]\n",
        "te=[]\n",
        "def compute_error(W0, W1, W2, W3, x1, x2, x3, y1):\n",
        "    totalError = 0\n",
        "    x1 = x1\n",
        "    x2 = x2\n",
        "    x3 = x3\n",
        "    y1 = y1\n",
        "    #print(c,m)\n",
        "    w_1.append(W1)\n",
        "    w_2.append(W2)\n",
        "    w_3.append(W3)\n",
        "    w_0.append(W0)\n",
        "    for i in range(0,len(x1)):\n",
        "        totalError+=(((W0+W1*x1[i]+W2*x2[i]+W3*x3[i])-y1[i]) ** 2)\n",
        "      #te.append(totalError)\n",
        "    #print(te)\n",
        "    #err=(np.array(te).sum())\n",
        "    er.append(totalError/len(x1))\n",
        "    #print(er)\n",
        " \n",
        "def step_gradient(w0_current, w1_current, w2_current, w3_current, x1, x2, x3, y1, learningRate):\n",
        "    w0_gradient = 0.0\n",
        "    w1_gradient = 0.0\n",
        "    w2_gradient = 0.0\n",
        "    w3_gradient = 0.0\n",
        "    N = float(len(x1))\n",
        "    x1 = x1\n",
        "    x2 = x2\n",
        "    x3 = x3\n",
        "    y1 = y1\n",
        "    wg0=[]\n",
        "    wg1=[]\n",
        "    wg2=[]\n",
        "    wg3=[]\n",
        "    for i in range(0,len(x1)):\n",
        "        wg0.append((w0_current+w1_current*x1[i]+w2_current*x2[i]+w3_current*x3[i])-y1[i])\n",
        "        wg1.append(x1[i] * ((w0_current+w1_current*x1[i]+w2_current*x2[i]+w3_current*x3[i])-y1[i]))\n",
        "        wg2.append(x2[i] * ((w0_current+w1_current*x1[i]+w2_current*x2[i]+w3_current*x3[i])-y1[i]))\n",
        "        wg3.append(x3[i] * ((w0_current+w1_current*x1[i]+w2_current*x2[i]+w3_current*x3[i])-y1[i]))\n",
        "    w0_gradient=(np.array(wg0).sum())/N\n",
        "    w1_gradient=(np.array(wg1).sum())/N\n",
        "    w2_gradient=(np.array(wg2).sum())/N\n",
        "    w3_gradient=(np.array(wg3).sum())/N\n",
        "    new_w0 = w0_current - (learningRate * w0_gradient)\n",
        "    new_w1 = w1_current - (learningRate * w1_gradient)\n",
        "    new_w2 = w2_current - (learningRate * w2_gradient)\n",
        "    new_w3 = w3_current - (learningRate * w3_gradient)\n",
        "    compute_error(new_w0,new_w1,new_w2,new_w3,x1,x2,x3,y1)\n",
        "    return [new_w0,new_w1,new_w2,new_w3]\n",
        " \n",
        "def gradient_descent_runner(x1, x2, x3, y1, starting_w0, starting_w1, starting_w2,starting_w3, learning_rate, num_iterations):\n",
        "    w0 = starting_w0\n",
        "    w1 = starting_w1\n",
        "    w2 = starting_w2\n",
        "    w3 = starting_w3\n",
        "    for i in range(num_iterations):\n",
        "        w0, w1, w2, w3 = step_gradient(w0, w1, w2, w3, x1, x2, x3, y1, learning_rate)\n",
        "      #print(c,m)\n",
        "def run():\n",
        "    sn = pd.read_csv(\"datasets_56097_107686_headbrain.csv\")\n",
        "    x11=sn.iloc[:,0:1]\n",
        "    x22=sn.iloc[:,1:2]\n",
        "    x33=sn.iloc[:,2:3]\n",
        "    y11=sn.iloc[:,3:4]\n",
        "    x1=np.array(x11)\n",
        "    x2=np.array(x22)\n",
        "    x3=np.array(x33)\n",
        "    y1=np.array(y11)\n",
        "    learning_rate = 0.001\n",
        "    initial_w0 = 1 \n",
        "    initial_w1 = 1 \n",
        "    initial_w2 = 1\n",
        "    initial_w3 = 1\n",
        "    num_iterations = 10\n",
        "    compute_error(initial_w0, initial_w1, initial_w2, initial_w3, x1, x2, x3, y1)\n",
        "    gradient_descent_runner(x1, x2, x3, y1, initial_w0, initial_w1, initial_w2,initial_w3, learning_rate, num_iterations)\n",
        "    \n",
        " \n",
        " \n",
        "run()\n",
        "it=np.arange(0,11)"
      ],
      "execution_count": 24,
      "outputs": []
    },
    {
      "cell_type": "code",
      "metadata": {
        "id": "RF49m3s4LyYF",
        "outputId": "422367c3-f112-4d2c-e694-37a422c94f94",
        "colab": {
          "base_uri": "https://localhost:8080/",
          "height": 293
        }
      },
      "source": [
        "it=np.arange(0,11)\n",
        "plt.plot(it,er)"
      ],
      "execution_count": 27,
      "outputs": [
        {
          "output_type": "execute_result",
          "data": {
            "text/plain": [
              "[<matplotlib.lines.Line2D at 0x7fadc024dba8>]"
            ]
          },
          "metadata": {
            "tags": []
          },
          "execution_count": 27
        },
        {
          "output_type": "display_data",
          "data": {
            "image/png": "[encoded data removed]",
            "text/plain": [
              "<Figure size 432x288 with 1 Axes>"
            ]
          },
          "metadata": {
            "tags": [],
            "needs_background": "light"
          }
        }
      ]
    },
    {
      "cell_type": "markdown",
      "metadata": {
        "id": "OoPNHu86Qail"
      },
      "source": [
        "# **3.Question**\n",
        "Recall the heart dataset from canvas and built a logistic regression model for predicting heart attach based on the given features.\n",
        "\n",
        "(age ,sex, cp, trestbps, chol, fbs, restesg ,thalach ,exang, oldpeak, slope, ca , thal,)\n",
        "\n",
        "* Age\t55\n",
        "* Sex\t1\n",
        "* Cp\t2\n",
        "* Trestbps\t144\n",
        "* Chol\t1\n",
        "* Fbs\t1\n",
        "* thalach\t145\n",
        "* Restesg\t1\n",
        "* Exang\t1\n",
        "* Oldpeak\t2.4\n",
        "* Slope\t2\n",
        "* Ca\t0\n",
        "* thal\t1\n",
        "* target\t\n",
        "\n"
      ]
    },
    {
      "cell_type": "code",
      "metadata": {
        "id": "ziWcjXWZQmDu"
      },
      "source": [
        "import numpy as np\n",
        "import pandas as pd\n",
        "import matplotlib.pyplot as plt\n",
        " \n",
        "er=[]\n",
        "w_1=[]\n",
        "w_2=[]\n",
        "w_3=[]\n",
        "w_4=[]\n",
        "w_5=[]\n",
        "w_6=[]\n",
        "w_7=[]\n",
        "w_8=[]\n",
        "w_9=[]\n",
        "w_10=[]\n",
        "w_11=[]\n",
        "w_12=[]\n",
        "w_13=[]\n",
        "w_0=[]\n",
        "te=[]\n",
        "def compute_error(W0, W1, W2, W3, W4, W5, W6, W7, W8, W9, W10, W11, W12, W13, x1, x2, x3, x4, x5, x6, x7, x8, x9, x10, x11, x12, x13, y1):\n",
        "    totalError = 0\n",
        "    x1 = x1\n",
        "    x2 = x2\n",
        "    x3 = x3\n",
        "    x4 = x4\n",
        "    x5 = x5\n",
        "    x6 = x6\n",
        "    x7 = x7\n",
        "    x8 = x8\n",
        "    x9 = x9\n",
        "    x10 = x10\n",
        "    x11= x11\n",
        "    x12 = x12\n",
        "    x13 = x13\n",
        "    y1 = y1\n",
        "    #print(c,m)\n",
        "    w_1.append(W1)\n",
        "    w_2.append(W2)\n",
        "    w_3.append(W3)\n",
        "    w_4.append(W4)\n",
        "    w_5.append(W5)\n",
        "    w_6.append(W6)\n",
        "    w_7.append(W7)\n",
        "    w_8.append(W8)\n",
        "    w_9.append(W9)\n",
        "    w_10.append(W10)\n",
        "    w_11.append(W11)\n",
        "    w_12.append(W12)\n",
        "    w_13.append(W13)\n",
        "    w_0.append(W0)\n",
        "    for i in range(0,len(x1)):\n",
        "        a = (W0+W1*x1[i]+W2*x2[i]+W3*x3[i]+W4*x4[i]+W5*x5[i]+W6*x6[i]+W7*x7[i]+W8*x8[i]+W9*x9[i]+W10*x10[i]+W11*x11[i]+W12*x12[i]+W13*x13[i])\n",
        "        a=(1/(1+(np.exp(-1 * a))))\n",
        "        a = ((y1[i]*np.log2(a))+(1-y1[i])*np.log2(1-a))\n",
        "        totalError+=(a)\n",
        "      #te.append(totalError)\n",
        "    #print(te)\n",
        "    #err=(np.array(te).sum())\n",
        "    er.append(-1.0*(totalError/len(x1)))\n",
        "    #print(er)\n",
        " \n",
        "def step_gradient(w0_current, w1_current, w2_current, w3_current,w4_current, w5_current, w6_current, w7_current, w8_current, w9_current, w10_current, w11_current, w12_current, w13_current, x1, x2, x3, x4, x5, x6, x7, x8, x9, x10, x11, x12, x13, y1, learningRate):\n",
        "    w0_gradient = 0.0\n",
        "    w1_gradient = 0.0\n",
        "    w2_gradient = 0.0\n",
        "    w3_gradient = 0.0\n",
        "    w4_gradient = 0.0\n",
        "    w5_gradient = 0.0\n",
        "    w6_gradient = 0.0\n",
        "    w7_gradient = 0.0\n",
        "    w8_gradient = 0.0\n",
        "    w9_gradient = 0.0\n",
        "    w10_gradient = 0.0\n",
        "    w11_gradient = 0.0\n",
        "    w12_gradient = 0.0\n",
        "    w13_gradient = 0.0\n",
        "    N = float(len(x1))\n",
        "    x1 = x1\n",
        "    x2 = x2\n",
        "    x3 = x3\n",
        "    x4 = x4\n",
        "    x5 = x5\n",
        "    x6 = x6\n",
        "    x7 = x7\n",
        "    x8 = x8\n",
        "    x9 = x9\n",
        "    x10 = x10\n",
        "    x11 = x11\n",
        "    x12 = x12\n",
        "    x13 = x13\n",
        "    y1 = y1\n",
        "    wg0=[]\n",
        "    wg1=[]\n",
        "    wg2=[]\n",
        "    wg3=[]\n",
        "    wg4=[]\n",
        "    wg5=[]\n",
        "    wg6=[]\n",
        "    wg7=[]\n",
        "    wg8=[]\n",
        "    wg9=[]\n",
        "    wg10=[]\n",
        "    wg11=[]\n",
        "    wg12=[]\n",
        "    wg13=[]\n",
        "    for i in range(0,len(x1)):\n",
        "        wg0.append((w0_current+w1_current*x1[i]+w2_current*x2[i]+w3_current*x3[i]+w4_current*x4[i]+w5_current*x5[i]+w6_current*x6[i]+w7_current*x7[i]+w8_current*x8[i]+w9_current*x9[i]+w10_current*x10[i]+w11_current*x11[i]+w12_current*x12[i]+w13_current*x13[i]))\n",
        "        wg1.append(x1[i] * ((w0_current+w1_current*x1[i]+w2_current*x2[i]+w3_current*x3[i]+w4_current*x4[i]+w5_current*x5[i]+w6_current*x6[i]+w7_current*x7[i]+w8_current*x8[i]+w9_current*x9[i]+w10_current*x10[i]+w11_current*x11[i]+w12_current*x12[i]+w13_current*x13[i])))\n",
        "        wg2.append(x2[i] * ((w0_current+w1_current*x1[i]+w2_current*x2[i]+w3_current*x3[i]+w4_current*x4[i]+w5_current*x5[i]+w6_current*x6[i]+w7_current*x7[i]+w8_current*x8[i]+w9_current*x9[i]+w10_current*x10[i]+w11_current*x11[i]+w12_current*x12[i]+w13_current*x13[i])))\n",
        "        wg3.append(x3[i] * ((w0_current+w1_current*x1[i]+w2_current*x2[i]+w3_current*x3[i]+w4_current*x4[i]+w5_current*x5[i]+w6_current*x6[i]+w7_current*x7[i]+w8_current*x8[i]+w9_current*x9[i]+w10_current*x10[i]+w11_current*x11[i]+w12_current*x12[i]+w13_current*x13[i])))\n",
        "        wg4.append(x4[i] * ((w0_current+w1_current*x1[i]+w2_current*x2[i]+w3_current*x3[i]+w4_current*x4[i]+w5_current*x5[i]+w6_current*x6[i]+w7_current*x7[i]+w8_current*x8[i]+w9_current*x9[i]+w10_current*x10[i]+w11_current*x11[i]+w12_current*x12[i]+w13_current*x13[i])))\n",
        "        wg5.append(x5[i] * ((w0_current+w1_current*x1[i]+w2_current*x2[i]+w3_current*x3[i]+w4_current*x4[i]+w5_current*x5[i]+w6_current*x6[i]+w7_current*x7[i]+w8_current*x8[i]+w9_current*x9[i]+w10_current*x10[i]+w11_current*x11[i]+w12_current*x12[i]+w13_current*x13[i])))\n",
        "        wg6.append(x6[i] * ((w0_current+w1_current*x1[i]+w2_current*x2[i]+w3_current*x3[i]+w4_current*x4[i]+w5_current*x5[i]+w6_current*x6[i]+w7_current*x7[i]+w8_current*x8[i]+w9_current*x9[i]+w10_current*x10[i]+w11_current*x11[i]+w12_current*x12[i]+w13_current*x13[i])))\n",
        "        wg7.append(x7[i] * ((w0_current+w1_current*x1[i]+w2_current*x2[i]+w3_current*x3[i]+w4_current*x4[i]+w5_current*x5[i]+w6_current*x6[i]+w7_current*x7[i]+w8_current*x8[i]+w9_current*x9[i]+w10_current*x10[i]+w11_current*x11[i]+w12_current*x12[i]+w13_current*x13[i])))\n",
        "        wg8.append(x8[i] * ((w0_current+w1_current*x1[i]+w2_current*x2[i]+w3_current*x3[i]+w4_current*x4[i]+w5_current*x5[i]+w6_current*x6[i]+w7_current*x7[i]+w8_current*x8[i]+w9_current*x9[i]+w10_current*x10[i]+w11_current*x11[i]+w12_current*x12[i]+w13_current*x13[i])))\n",
        "        wg9.append(x9[i] * ((w0_current+w1_current*x1[i]+w2_current*x2[i]+w3_current*x3[i]+w4_current*x4[i]+w5_current*x5[i]+w6_current*x6[i]+w7_current*x7[i]+w8_current*x8[i]+w9_current*x9[i]+w10_current*x10[i]+w11_current*x11[i]+w12_current*x12[i]+w13_current*x13[i])))\n",
        "        wg10.append(x10[i] * ((w0_current+w1_current*x1[i]+w2_current*x2[i]+w3_current*x3[i]+w4_current*x4[i]+w5_current*x5[i]+w6_current*x6[i]+w7_current*x7[i]+w8_current*x8[i]+w9_current*x9[i]+w10_current*x10[i]+w11_current*x11[i]+w12_current*x12[i]+w13_current*x13[i])))\n",
        "        wg11.append(x11[i] * ((w0_current+w1_current*x1[i]+w2_current*x2[i]+w3_current*x3[i]+w4_current*x4[i]+w5_current*x5[i]+w6_current*x6[i]+w7_current*x7[i]+w8_current*x8[i]+w9_current*x9[i]+w10_current*x10[i]+w11_current*x11[i]+w12_current*x12[i]+w13_current*x13[i])))\n",
        "        wg12.append(x12[i] * ((w0_current+w1_current*x1[i]+w2_current*x2[i]+w3_current*x3[i]+w4_current*x4[i]+w5_current*x5[i]+w6_current*x6[i]+w7_current*x7[i]+w8_current*x8[i]+w9_current*x9[i]+w10_current*x10[i]+w11_current*x11[i]+w12_current*x12[i]+w13_current*x13[i])))\n",
        "        wg13.append(x13[i] * ((w0_current+w1_current*x1[i]+w2_current*x2[i]+w3_current*x3[i]+w4_current*x4[i]+w5_current*x5[i]+w6_current*x6[i]+w7_current*x7[i]+w8_current*x8[i]+w9_current*x9[i]+w10_current*x10[i]+w11_current*x11[i]+w12_current*x12[i]+w13_current*x13[i])))\n",
        "        wg0[i] = (1/(1+(np.exp(-1 * wg0[i]))))\n",
        "        wg1[i] = (1/(1+(np.exp(-1 * wg1[i]))))\n",
        "        wg2[i] = (1/(1+(np.exp(-1 * wg2[i]))))\n",
        "        wg3[i] = (1/(1+(np.exp(-1 * wg3[i]))))\n",
        "        wg4[i] = (1/(1+(np.exp(-1 * wg4[i]))))\n",
        "        wg5[i] = (1/(1+(np.exp(-1 * wg5[i]))))\n",
        "        wg6[i] = (1/(1+(np.exp(-1 * wg6[i]))))\n",
        "        wg7[i] = (1/(1+(np.exp(-1 * wg7[i]))))\n",
        "        wg8[i] = (1/(1+(np.exp(-1 * wg8[i]))))\n",
        "        wg9[i] = (1/(1+(np.exp(-1 * wg9[i]))))\n",
        "        wg10[i] = (1/(1+(np.exp(-1 * wg10[i]))))\n",
        "        wg11[i] = (1/(1+(np.exp(-1 * wg11[i]))))\n",
        "        wg12[i] = (1/(1+(np.exp(-1 * wg12[i]))))\n",
        "        wg13[i] = (1/(1+(np.exp(-1 * wg13[i]))))\n",
        "        \n",
        "        wg0[i] =(y1[i]-wg0[i]) \n",
        "        wg1[i] =(x1[i]*(y1[i]-wg1[i])) \n",
        "        wg2[i] = (x2[i]*(y1[i]-wg2[i]))\n",
        "        wg3[i] = (x3[i]*(y1[i]-wg3[i]))\n",
        "        wg4[i] = (x4[i]*(y1[i]-wg4[i]))\n",
        "        wg5[i] = (x5[i]*(y1[i]-wg5[i]))\n",
        "        wg6[i] = (x6[i]*(y1[i]-wg6[i]))\n",
        "        wg7[i] = (x7[i]*(y1[i]-wg7[i]))\n",
        "        wg8[i] = (x8[i]*(y1[i]-wg8[i]))\n",
        "        wg9[i] = (x9[i]*(y1[i]-wg9[i]))\n",
        "        wg10[i] =(x10[i]*(y1[i]-wg10[i]))\n",
        "        wg11[i] =(x11[i]*(y1[i]-wg11[i]))\n",
        "        wg12[i] = (x12[i]*(y1[i]-wg12[i]))\n",
        "        wg13[i] = (x13[i]*(y1[i]-wg13[i]))\n",
        "        \n",
        "        \n",
        "        \n",
        "    \n",
        "    w0_gradient=(np.array(wg0).sum())/N\n",
        "    w1_gradient=(np.array(wg1).sum())/N\n",
        "    w2_gradient=(np.array(wg2).sum())/N\n",
        "    w3_gradient=(np.array(wg3).sum())/N\n",
        "    w4_gradient=(np.array(wg4).sum())/N\n",
        "    w5_gradient=(np.array(wg5).sum())/N\n",
        "    w6_gradient=(np.array(wg6).sum())/N\n",
        "    w7_gradient=(np.array(wg7).sum())/N\n",
        "    w8_gradient=(np.array(wg8).sum())/N\n",
        "    w9_gradient=(np.array(wg9).sum())/N\n",
        "    w10_gradient=(np.array(wg10).sum())/N\n",
        "    w11_gradient=(np.array(wg11).sum())/N\n",
        "    w12_gradient=(np.array(wg12).sum())/N\n",
        "    w13_gradient=(np.array(wg13).sum())/N\n",
        "    new_w0 = w0_current - (learningRate * w0_gradient)\n",
        "    new_w1 = w1_current - (learningRate * w1_gradient)\n",
        "    new_w2 = w2_current - (learningRate * w2_gradient)\n",
        "    new_w3 = w3_current - (learningRate * w3_gradient)\n",
        "    new_w4 = w4_current - (learningRate * w4_gradient)\n",
        "    new_w5 = w5_current - (learningRate * w5_gradient)\n",
        "    new_w6 = w6_current - (learningRate * w6_gradient)\n",
        "    new_w7 = w7_current - (learningRate * w7_gradient)\n",
        "    new_w8 = w8_current - (learningRate * w8_gradient)\n",
        "    new_w9 = w9_current - (learningRate * w9_gradient)\n",
        "    new_w10 = w10_current - (learningRate * w10_gradient)\n",
        "    new_w11 = w11_current - (learningRate * w11_gradient)\n",
        "    new_w12 = w12_current - (learningRate * w12_gradient)\n",
        "    new_w13 = w13_current - (learningRate * w13_gradient)\n",
        "    compute_error(new_w0,new_w1,new_w2,new_w3,new_w4,new_w5,new_w6,new_w7,new_w8,new_w9,new_w10,new_w11,new_w12,new_w13,x1,x2,x3,x4,x5,x6,x7,x8,x9,x10,x11,x12,x13, y1)\n",
        "    return [new_w0,new_w1,new_w2,new_w3,new_w4,new_w5,new_w6,new_w7,new_w8,new_w9,new_w10,new_w11,new_w12,new_w13]\n",
        " \n",
        "def gradient_descent_runner(x1, x2, x3,  x4, x5, x6, x7, x8, x9, x10, x11, x12, x13,y1, starting_w0, starting_w1, starting_w2,starting_w3, starting_w4, starting_w5, starting_w6, starting_w7, starting_w8, starting_w9, starting_w10, starting_w11, starting_w12, starting_w13, learning_rate, num_iterations):\n",
        "    w0 = starting_w0\n",
        "    w1 = starting_w1\n",
        "    w2 = starting_w2\n",
        "    w3 = starting_w3\n",
        "    w4 = starting_w4\n",
        "    w5 = starting_w5\n",
        "    w6 = starting_w6\n",
        "    w7 = starting_w7\n",
        "    w8 = starting_w8\n",
        "    w9 = starting_w9\n",
        "    w10 = starting_w10\n",
        "    w11= starting_w11\n",
        "    w12 = starting_w12\n",
        "    w13 = starting_w13\n",
        "    for i in range(num_iterations):\n",
        "        w0, w1, w2, w3,w4, w5, w6, w7, w8, w9, w10, w11, w12, w13 = step_gradient(w0, w1, w2, w3, w4, w5, w6, w7, w8, w9, w10, w11, w12, w13, x1, x2, x3,x4,x5,x6,x7,x8,x9,x10,x11,x12,x13, y1, learning_rate)\n",
        "      #print(c,m)\n",
        "def run():\n",
        "    data = pd.read_csv('heart.csv')\n",
        "    z=[]\n",
        "    for x in data.columns:\n",
        "        z.append(x)\n",
        "    data=data[z].apply(lambda rec:(rec - rec.mean())/rec.std(), axis=0)\n",
        "    sn = data\n",
        "    x11=sn.iloc[:,0:1]\n",
        "    x22=sn.iloc[:,1:2]\n",
        "    x33=sn.iloc[:,2:3]\n",
        "    x44=sn.iloc[:,3:4]\n",
        "    x55=sn.iloc[:,4:5]\n",
        "    x66=sn.iloc[:,5:6]\n",
        "    x77=sn.iloc[:,6:7]\n",
        "    x88=sn.iloc[:,7:8]\n",
        "    x99=sn.iloc[:,8:9]\n",
        "    x1010=sn.iloc[:,9:10]\n",
        "    x1111=sn.iloc[:,10:11]\n",
        "    x1212=sn.iloc[:,11:12]\n",
        "    x1313=sn.iloc[:,12:13]\n",
        "    y11=sn.iloc[:,3:4]\n",
        "    x1=np.array(x11)\n",
        "    x2=np.array(x22)\n",
        "    x3=np.array(x33)\n",
        "    x4=np.array(x44)\n",
        "    x5=np.array(x55)\n",
        "    x6=np.array(x66)\n",
        "    x7=np.array(x77)\n",
        "    x8=np.array(x88)\n",
        "    x9=np.array(x99)\n",
        "    x10=np.array(x1010)\n",
        "    x11=np.array(x1111)\n",
        "    x12=np.array(x1212)\n",
        "    x13=np.array(x1313)\n",
        "    y1=np.array(y11)\n",
        "    learning_rate = 0.001\n",
        "    initial_w0 = 1 \n",
        "    initial_w1 = 1 \n",
        "    initial_w2 = 1\n",
        "    initial_w3 = 1\n",
        "    initial_w4 = 1\n",
        "    initial_w5 = 1\n",
        "    initial_w6 = 1\n",
        "    initial_w7 = 1\n",
        "    initial_w8 = 1\n",
        "    initial_w9 = 1\n",
        "    initial_w10 = 1\n",
        "    initial_w11 = 1\n",
        "    initial_w12 = 1\n",
        "    initial_w13 = 1\n",
        "    num_iterations = 10\n",
        "    compute_error(initial_w0, initial_w1, initial_w2, initial_w3, initial_w4, initial_w5, initial_w6, initial_w7, initial_w8, initial_w9, initial_w10, initial_w11, initial_w12, initial_w13, x1, x2, x3,x4,x5,x6,x7,x8,x9,x10,x11,x12,x13, y1)\n",
        "    gradient_descent_runner(x1, x2, x3,x4,x5,x6,x7,x8,x9,x10,x11,x12,x13, y1, initial_w0, initial_w1, initial_w2,initial_w3,initial_w4,initial_w5,initial_w6,initial_w7,initial_w8,initial_w9,initial_w10,initial_w11,initial_w12, initial_w13,learning_rate, num_iterations)\n",
        "    \n",
        " \n",
        " \n",
        "run()\n",
        "it=np.arange(0,11)"
      ],
      "execution_count": 29,
      "outputs": []
    },
    {
      "cell_type": "code",
      "metadata": {
        "id": "K7wcwNpxSLkd",
        "outputId": "2766572a-4ef5-494c-8f30-e259e06bca91",
        "colab": {
          "base_uri": "https://localhost:8080/",
          "height": 281
        }
      },
      "source": [
        "it=np.arange(0,11)\n",
        "plt.plot(it,er)"
      ],
      "execution_count": 30,
      "outputs": [
        {
          "output_type": "execute_result",
          "data": {
            "text/plain": [
              "[<matplotlib.lines.Line2D at 0x7fadbfa3dda0>]"
            ]
          },
          "metadata": {
            "tags": []
          },
          "execution_count": 30
        },
        {
          "output_type": "display_data",
          "data": {
            "image/png": "[encoded data removed]",
            "text/plain": [
              "<Figure size 432x288 with 1 Axes>"
            ]
          },
          "metadata": {
            "tags": [],
            "needs_background": "light"
          }
        }
      ]
    },
    {
      "cell_type": "code",
      "metadata": {
        "id": "URz4DZmJSi-J",
        "outputId": "a8940b67-4af4-46b8-ae55-c387cb20e042",
        "colab": {
          "base_uri": "https://localhost:8080/",
          "height": 304
        }
      },
      "source": [
        "sn = pd.read_csv('heart.csv')\n",
        "x1=sn.iloc[:,0:1]\n",
        "x2=sn.iloc[:,1:2]\n",
        "x3=sn.iloc[:,2:3]\n",
        "x4=sn.iloc[:,3:4]\n",
        "x5=sn.iloc[:,4:5]\n",
        "x6=sn.iloc[:,5:6]\n",
        "x7=sn.iloc[:,6:7]\n",
        "x8=sn.iloc[:,7:8]\n",
        "x9=sn.iloc[:,8:9]\n",
        "x10=sn.iloc[:,9:10]\n",
        "x11=sn.iloc[:,10:11]\n",
        "x12=sn.iloc[:,11:12]\n",
        "x13=sn.iloc[:,12:13]\n",
        "y1=sn.iloc[:,13:14]\n",
        "w0=w_0\n",
        "w1=w_1\n",
        "w2=w_2\n",
        "w3=w_3\n",
        "w4=w_4\n",
        "w5=w_5\n",
        "w6=w_6\n",
        "w7=w_7\n",
        "w8=w_8\n",
        "w9=w_9\n",
        "w10=w_10\n",
        "w11=w_11\n",
        "w12=w_12\n",
        "w13=w_13\n",
        "print(er)\n",
        "e1=min(er)\n",
        "indexx=er.index(e1)\n",
        "print(indexx)\n",
        "a1=float(input('enter age : '))\n",
        "a2=float(input('enter sex : '))\n",
        "a3=float(input('Head cp : '))\n",
        "a4=float(input('enter testbps : '))\n",
        "a5=float(input('enter chol : '))\n",
        "a6=float(input('enter fbs : '))\n",
        "a7=float(input('enter restecg : '))\n",
        "a8=float(input('enter thalach : '))\n",
        "a9=float(input('enter exang : '))\n",
        "a10=float(input('enter oldpeak: '))\n",
        "a11=float(input('enter slope: '))\n",
        "a12=float(input('enter ca: '))\n",
        "a13=float(input('enter thal : '))\n",
        "k = w1[indexx]*a1+w2[indexx]*a2+w3[indexx]*a3+w0[indexx]+w4[indexx]*a4+w5[indexx]*a5+w6[indexx]*a6+w7[indexx]*a7+w8[indexx]*a8+w9[indexx]*a9+w10[indexx]*a10+w11[indexx]*a11+w12[indexx]*a12+w13[indexx]*a13\n",
        "k = (1/(1+np.exp(-1*k)))\n",
        "print(k)"
      ],
      "execution_count": 32,
      "outputs": [
        {
          "output_type": "stream",
          "text": [
            "[array([0.7113902]), array([0.71315864]), array([0.71492732]), array([0.71669622]), array([0.71846536]), array([0.72023473]), array([0.72200433]), array([0.72377417]), array([0.72554424]), array([0.72731454]), array([0.72908507])]\n",
            "0\n",
            "enter age : 55\n",
            "enter sex : 1\n",
            "Head cp : 2\n",
            "enter testbps : 144\n",
            "enter chol : 1\n",
            "enter fbs : 1\n",
            "enter restecg : 145\n",
            "enter thalach : 1\n",
            "enter exang : 1\n",
            "enter oldpeak: 2.4\n",
            "enter slope: 2\n",
            "enter ca: 0\n",
            "enter thal : 1\n",
            "1.0\n"
          ],
          "name": "stdout"
        }
      ]
    }
  ]
}